{
  "nbformat": 4,
  "nbformat_minor": 0,
  "metadata": {
    "colab": {
      "provenance": [],
      "authorship_tag": "ABX9TyMwdqlY5RjyiGi63fZZ3KNy",
      "include_colab_link": true
    },
    "kernelspec": {
      "name": "python3",
      "display_name": "Python 3"
    },
    "language_info": {
      "name": "python"
    }
  },
  "cells": [
    {
      "cell_type": "markdown",
      "metadata": {
        "id": "view-in-github",
        "colab_type": "text"
      },
      "source": [
        "<a href=\"https://colab.research.google.com/github/AndrewK7778/Homework-1/blob/main/%D0%94%D0%97.ipynb\" target=\"_parent\"><img src=\"https://colab.research.google.com/assets/colab-badge.svg\" alt=\"Open In Colab\"/></a>"
      ]
    },
    {
      "cell_type": "markdown",
      "source": [
        "# ДЗ 2 - 1"
      ],
      "metadata": {
        "id": "g5mnFgzNd0o4"
      }
    },
    {
      "cell_type": "code",
      "source": [
        "# Ввод года\n",
        "year = int(input(\"Введите год: \"))\n",
        "\n",
        "# Проверка на високосный год\n",
        "if (year % 4 == 0 and year % 100 != 0) or (year % 400 == 0):\n",
        "    print(f\"{year} — високосный год\")\n",
        "else:\n",
        "    print(f\"{year} — обычный год\")"
      ],
      "metadata": {
        "colab": {
          "base_uri": "https://localhost:8080/"
        },
        "id": "WKvqIBF5izid",
        "outputId": "6443a0df-c122-414c-c247-2df8b38b7ba6"
      },
      "execution_count": null,
      "outputs": [
        {
          "output_type": "stream",
          "name": "stdout",
          "text": [
            "Введите год: 2024\n",
            "2024 — високосный год\n"
          ]
        }
      ]
    },
    {
      "cell_type": "markdown",
      "source": [
        "# ДЗ 2 - 2"
      ],
      "metadata": {
        "id": "PDD6zfCYdzD2"
      }
    },
    {
      "cell_type": "code",
      "source": [
        "# Ввод шестизначного числа (номер билета)\n",
        "number = input(\"Введите шестизначный номер билета: \")\n",
        "\n",
        "# Проверка, что номер состоит из 6 цифр\n",
        "if len(number) == 6 and number.isdigit():\n",
        "    # Разделение номера на две части\n",
        "    first_half = number[:3]\n",
        "    second_half = number[3:]\n",
        "\n",
        "    # Суммирование цифр в каждой половине\n",
        "    first_sum = sum(int(digit) for digit in first_half)\n",
        "    second_sum = sum(int(digit) for digit in second_half)\n",
        "\n",
        "    # Сравнение сумм\n",
        "    if first_sum == second_sum:\n",
        "        print(f\"{number} — Счастливый билет\")\n",
        "    else:\n",
        "        print(f\"{number} — Несчастливый билет\")\n",
        "else:\n",
        "    print(\"Некорректный ввод. Пожалуйста, введите шестизначный номер.\")\n"
      ],
      "metadata": {
        "colab": {
          "base_uri": "https://localhost:8080/"
        },
        "id": "xP5yM8XufCaD",
        "outputId": "7dbe4a3e-d731-4d39-c53d-55505e6379a7"
      },
      "execution_count": null,
      "outputs": [
        {
          "output_type": "stream",
          "name": "stdout",
          "text": [
            "Введите шестизначный номер билета: 123321\n",
            "123321 — Счастливый билет\n"
          ]
        }
      ]
    },
    {
      "cell_type": "markdown",
      "source": [
        "# ДЗ 3 - 1"
      ],
      "metadata": {
        "id": "fpIYfhXGlPMK"
      }
    },
    {
      "cell_type": "code",
      "source": [
        "# Ввод слова\n",
        "word = input(\"Введите слово: \")\n",
        "\n",
        "# Определение длины слова\n",
        "length = len(word)\n",
        "\n",
        "# Проверка на чётность или нечётность длины слова\n",
        "if length % 2 == 0:\n",
        "    # Чётная длина: вывод двух средних букв\n",
        "    middle1 = length // 2 - 1\n",
        "    middle2 = length // 2\n",
        "    print(f\"Результат: {word[middle1]}{word[middle2]}\")\n",
        "else:\n",
        "    # Нечётная длина: вывод одной средней буквы\n",
        "    middle = length // 2\n",
        "    print(f\"Результат: {word[middle]}\")"
      ],
      "metadata": {
        "colab": {
          "base_uri": "https://localhost:8080/"
        },
        "id": "4Ajdy_6zlj4C",
        "outputId": "206bf737-4b5e-487c-a2e2-d68311b65074"
      },
      "execution_count": null,
      "outputs": [
        {
          "output_type": "stream",
          "name": "stdout",
          "text": [
            "Введите слово: привет\n",
            "Результат: ив\n"
          ]
        }
      ]
    },
    {
      "cell_type": "markdown",
      "source": [
        "# ДЗ 3 - 2"
      ],
      "metadata": {
        "id": "C8wSbR8sl7fW"
      }
    },
    {
      "cell_type": "code",
      "source": [
        "# Списки юношей и девушек\n",
        "boys = ['Peter', 'Alex', 'John', 'Arthur', 'Richard']\n",
        "girls = ['Kate', 'Liza', 'Kira', 'Emma', 'Trisha']\n",
        "\n",
        "# Проверка на равенство длины списков\n",
        "if len(boys) != len(girls):\n",
        "    print(\"Внимание, кто-то может остаться без пары!\")\n",
        "else:\n",
        "    # Сортировка списков по алфавиту\n",
        "    boys_sorted = sorted(boys)\n",
        "    girls_sorted = sorted(girls)\n",
        "\n",
        "    print(\"Идеальные пары:\")\n",
        "    # Выводим пары\n",
        "    for boy, girl in zip(boys_sorted, girls_sorted):\n",
        "        print(f\"{boy} и {girl}\")"
      ],
      "metadata": {
        "id": "oaoCJBLwnyU-",
        "outputId": "6d27e932-9533-4aea-b3be-61aaebc5607e",
        "colab": {
          "base_uri": "https://localhost:8080/"
        }
      },
      "execution_count": null,
      "outputs": [
        {
          "output_type": "stream",
          "name": "stdout",
          "text": [
            "Идеальные пары:\n",
            "Alex и Emma\n",
            "Arthur и Kate\n",
            "John и Kira\n",
            "Peter и Liza\n",
            "Richard и Trisha\n"
          ]
        }
      ]
    },
    {
      "cell_type": "markdown",
      "source": [
        "# ДЗ 4"
      ],
      "metadata": {
        "id": "LMEDxgoo1kJY"
      }
    },
    {
      "cell_type": "code",
      "source": [
        "# @title\n",
        "documents = [\n",
        " {'type': 'passport', 'number': '2207 876234', 'name': 'Василий Гупкин'},\n",
        " {'type': 'invoice', 'number': '11-2', 'name': 'Геннадий Покемонов'},\n",
        " {'type': 'insurance', 'number': '10006', 'name': 'Аристарх Павлов'}\n",
        "]\n",
        "\n",
        "directories = {\n",
        "'1': ['2207 876234', '11-2'],\n",
        "'2': ['10006'],\n",
        "'3': []\n",
        "}\n",
        "\n",
        "def find_owner_by_number(doc_number):\n",
        "    for document in documents:\n",
        "        if document['number'] == doc_number:\n",
        "            return document['name']\n",
        "    return None\n",
        "\n",
        "def find_shelf_by_number(doc_number):\n",
        "    for shelf, numbers in directories.items():\n",
        "        if doc_number in numbers:\n",
        "            return shelf\n",
        "    return None\n",
        "\n",
        "def main():\n",
        "  while True:\n",
        "    command = input(\"Введите p или s для ввода номера документа: \")\n",
        "\n",
        "    if command == 'p':\n",
        "      while True:\n",
        "        doc_number = input(\"Введите номер документа: \")\n",
        "        owner = find_owner_by_number(doc_number)\n",
        "\n",
        "        if owner:\n",
        "            print(f\"Владелец документа: {owner}\")\n",
        "\n",
        "        else:\n",
        "            print(\"Документ с таким номером не найден.\")\n",
        "      else:\n",
        "       print(\"Неверный ввод\")\n",
        "    elif command == \"s\":\n",
        "      while True:\n",
        "        doc_number = input(\"Введите номер документа: \")\n",
        "        shelf = find_shelf_by_number(doc_number)\n",
        "\n",
        "        if shelf:\n",
        "            print(f\"Номер полки: {shelf}\")\n",
        "            break\n",
        "        else:\n",
        "            print(\"Полка не найдена.\")\n",
        "      else:\n",
        "       print(\"Неверный ввод\")\n",
        "\n",
        "main()"
      ],
      "metadata": {
        "id": "C-5BsZBM19a-"
      },
      "execution_count": null,
      "outputs": []
    }
  ]
}